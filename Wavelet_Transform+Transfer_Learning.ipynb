{
  "cells": [
    {
      "cell_type": "code",
      "execution_count": null,
      "id": "cd4c3f0c",
      "metadata": {
        "id": "cd4c3f0c"
      },
      "outputs": [],
      "source": [
        "\n",
        "import numpy as np\n",
        "import librosa\n",
        "import matplotlib.pyplot as plt\n",
        "import numpy as np\n",
        "import pandas as pd\n",
        "import scipy \n",
        "from scipy.stats import kurtosis\n",
        "from collections import Counter\n",
        "import pywt\n"
      ]
    },
    {
      "cell_type": "code",
      "execution_count": null,
      "id": "07f31f66",
      "metadata": {
        "id": "07f31f66"
      },
      "outputs": [],
      "source": [
        "!pip install pywavelets"
      ]
    },
    {
      "cell_type": "code",
      "execution_count": null,
      "id": "26175fc7",
      "metadata": {
        "id": "26175fc7"
      },
      "outputs": [],
      "source": [
        "df=pd.read_csv(\"D:\\\\aseth_data\\\\path_set (1)_18_8_2.csv\")\n"
      ]
    },
    {
      "cell_type": "code",
      "execution_count": null,
      "id": "199c1b39",
      "metadata": {
        "id": "199c1b39"
      },
      "outputs": [],
      "source": [
        "s=df.iloc[139,0]\n",
        "x,sr=librosa.load(s)\n",
        "start=int(df.iloc[139,4])*22050\n",
        "end=int(df.iloc[139,5])*22050\n",
        "x=x[start:end]"
      ]
    },
    {
      "cell_type": "code",
      "execution_count": null,
      "id": "dfd0acfc",
      "metadata": {
        "id": "dfd0acfc"
      },
      "outputs": [],
      "source": [
        "from scipy.fft import fft\n",
        "y=fft(x)\n",
        "print(len(y))\n",
        "y=np.abs(y)\n"
      ]
    },
    {
      "cell_type": "code",
      "execution_count": null,
      "id": "3f6cc441",
      "metadata": {
        "id": "3f6cc441"
      },
      "outputs": [],
      "source": [
        "def fft_q(yf):    \n",
        "    N=len(yf)\n",
        "    T = 1.0 / 800.0\n",
        "    yf = fft(yf)\n",
        "    # xf = fftfreq(N, T)[:N//2]\n",
        "    import matplotlib.pyplot as plt\n",
        "    xf = np.linspace(0.0, 1.0/(2.0*T), N//2)\n",
        "\n",
        "    plt.plot(xf,2.0/N * np.abs(yf[:N//2]))\n",
        "    plt.grid()\n",
        "    plt.show()"
      ]
    },
    {
      "cell_type": "code",
      "execution_count": null,
      "id": "b2128a3c",
      "metadata": {
        "id": "b2128a3c"
      },
      "outputs": [],
      "source": [
        "yf=y\n",
        "fft_q(yf)\n",
        "    "
      ]
    },
    {
      "cell_type": "code",
      "execution_count": null,
      "id": "01e79e8e",
      "metadata": {
        "id": "01e79e8e"
      },
      "outputs": [],
      "source": [
        "def calculate_entropy(list_values):\n",
        "    counter_values = Counter(list_values).most_common()\n",
        "    probabilities = [elem[1]/len(list_values) for elem in counter_values]\n",
        "    entropy=scipy.stats.entropy(probabilities)\n",
        "    return entropy\n",
        " \n",
        "def calculate_statistics(list_values):\n",
        "    n5 = np.nanpercentile(list_values, 5)\n",
        "    n25 = np.nanpercentile(list_values, 25)\n",
        "    n75 = np.nanpercentile(list_values, 75)\n",
        "    n95 = np.nanpercentile(list_values, 95)\n",
        "    median = np.nanpercentile(list_values, 50)\n",
        "    mean = np.nanmean(list_values)\n",
        "    std = np.nanstd(list_values)\n",
        "    var = np.nanvar(list_values)\n",
        "    rms = np.nanmean(np.sqrt(np.multiply(list_values,list_values)))\n",
        "    kurt=kurtosis(list_values)\n",
        "    skew=scipy.stats.skew(list_values)\n",
        "    return [n5, n25, n75, n95, median, mean, std, var, rms,kurt,skew]\n",
        " \n",
        "def calculate_crossings(list_values):\n",
        "    zero_crossing_indices= np.where(np.diff(np.sign(list_values)))[0]\n",
        "    no_zero_crossings = len(zero_crossing_indices)\n",
        "    mean_crossing_indices = np.where(np.diff(np.sign(list_values-np.mean(list_values))))[0]\n",
        "    no_mean_crossings = len(mean_crossing_indices)\n",
        "    return [no_zero_crossings, no_mean_crossings]\n",
        " \n",
        "def get_features(list_values):\n",
        "    entropy = calculate_entropy(list_values)\n",
        "    crossings = calculate_crossings(list_values)\n",
        "    statistics = calculate_statistics(list_values)\n",
        "    return [entropy] + crossings + statistics\n",
        "\n",
        "def codefora():\n",
        "    k=pd.DataFrame()\n",
        "    for i in range(0,len(df)):\n",
        "        feat=[]\n",
        "        s=df.iloc[i,0]\n",
        "        print(s)\n",
        "        x,sr=librosa.load(s)\n",
        "        wp = pywt.WaveletPacket(data=x, wavelet='sym2', mode='symmetric',maxlevel=3)\n",
        "        for node in wp.get_level(3, 'freq'):\n",
        "            print(node.data)\n",
        "            a=get_features(node.data)\n",
        "            s=pd.Series(a)\n",
        "            k=k.append(s,ignore_index=True)\n",
        "        \n",
        "    return k\n",
        "    \n",
        "def codeforaudio():\n",
        "    feat=[];\n",
        "    k=pd.DataFrame()\n",
        "    for i in range(0,len(df)):\n",
        "        net=[];s=[]\n",
        "        s=df.iloc[i,0]\n",
        "        start=int(df.iloc[i,4])*22050\n",
        "        end=int(df.iloc[i,5])*22050\n",
        "        print(s)\n",
        "        x,sr=librosa.load(s);j=0\n",
        "        x=x[start:end]\n",
        "        wp = pywt.WaveletPacket(data=x, wavelet='sym2', mode='symmetric',maxlevel=5)\n",
        "        for node in wp.get_level(5, 'freq'):\n",
        "            a=get_features(node.data)\n",
        "            fft_q(a)\n",
        "            net.append(a)\n",
        "        net=np.array(net)\n",
        "        net=net.flatten()\n",
        "#         a=get_features(net)\n",
        "        s=pd.DataFrame(net)    \n",
        "        s=s.T\n",
        "#         print(s)\n",
        "        k=k.append(s, ignore_index=True)\n",
        "        print(k)\n",
        "#         a=get_features(k)\n",
        "#         print(a)\n",
        "#         feat.append(a)\n",
        "    return k\n",
        "    "
      ]
    },
    {
      "cell_type": "code",
      "execution_count": null,
      "id": "6251a38c",
      "metadata": {
        "id": "6251a38c"
      },
      "outputs": [],
      "source": [
        "\n",
        "f=codeforaudio()\n",
        "\n",
        "print(len(f_new))\n",
        "# print(f_new)"
      ]
    },
    {
      "cell_type": "code",
      "execution_count": null,
      "id": "d81b980a",
      "metadata": {
        "id": "d81b980a"
      },
      "outputs": [],
      "source": [
        "print(f.head())"
      ]
    },
    {
      "cell_type": "code",
      "execution_count": null,
      "id": "77553d46",
      "metadata": {
        "id": "77553d46"
      },
      "outputs": [],
      "source": [
        "label1=df.iloc[:,1].values\n",
        "label=[]\n",
        "for i in range(0,len(label1)):\n",
        "    if label1[i]=='Y':\n",
        "        label.append(int(1))\n",
        "    elif label1[i]=='I' or label1[i]=='N' :\n",
        "        label.append(int(0))\n",
        "        \n",
        "from sklearn.ensemble import RandomForestClassifier\n",
        "from sklearn.model_selection import train_test_split\n",
        "model=RandomForestClassifier()\n",
        "x_train,x_test,y_train,y_test=train_test_split(f,label,test_size=0.4)\n",
        "# x_train=X[:200]\n",
        "# y_train=label[:200]\n",
        "# x_test=X[200:]\n",
        "# y_test=label[200:]\n",
        "model.fit(x_train,y_train)\n",
        "print(model.score(x_test,y_test))"
      ]
    },
    {
      "cell_type": "code",
      "execution_count": null,
      "id": "a490efd5",
      "metadata": {
        "id": "a490efd5"
      },
      "outputs": [],
      "source": [
        "from sklearn.feature_selection import RFECV\n",
        "from sklearn.ensemble import RandomForestClassifier\n",
        "estimator = RandomForestClassifier()\n",
        "selector = RFECV(estimator, step=1,cv=5)\n",
        "selector = selector.fit(x_train, y_train)\n",
        "print(selector.get_params())\n",
        "print(selector.score(x_test,y_test))\n",
        "# print(selector.ranking_array)"
      ]
    },
    {
      "cell_type": "code",
      "execution_count": null,
      "id": "0c21ca91",
      "metadata": {
        "id": "0c21ca91"
      },
      "outputs": [],
      "source": [
        ""
      ]
    }
  ],
  "metadata": {
    "kernelspec": {
      "display_name": "Python 3 (ipykernel)",
      "language": "python",
      "name": "python3"
    },
    "language_info": {
      "codemirror_mode": {
        "name": "ipython",
        "version": 3
      },
      "file_extension": ".py",
      "mimetype": "text/x-python",
      "name": "python",
      "nbconvert_exporter": "python",
      "pygments_lexer": "ipython3",
      "version": "3.10.4"
    },
    "colab": {
      "name": "Wavelet Transform+Transfer Learning.ipynb",
      "provenance": []
    }
  },
  "nbformat": 4,
  "nbformat_minor": 5
}